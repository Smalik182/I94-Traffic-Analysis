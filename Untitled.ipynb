{
 "cells": [
  {
   "cell_type": "markdown",
   "id": "7e35d96d",
   "metadata": {},
   "source": [
    "# Indicators of Heavy Traffic on I-94 Interstate Highway\n",
    "\n",
    "\n",
    "We are going to be analyzing a data set on west bound traffic on I-94 Interstate Highway.\n",
    "\n",
    "The goal of this analysis is to determine a few indicators of heavy traffic on I-94. The indicators can be weather type, time of day, time of the week, etc."
   ]
  },
  {
   "cell_type": "code",
   "execution_count": 1,
   "id": "2143d584",
   "metadata": {},
   "outputs": [
    {
     "data": {
      "text/html": [
       "<div>\n",
       "<style scoped>\n",
       "    .dataframe tbody tr th:only-of-type {\n",
       "        vertical-align: middle;\n",
       "    }\n",
       "\n",
       "    .dataframe tbody tr th {\n",
       "        vertical-align: top;\n",
       "    }\n",
       "\n",
       "    .dataframe thead th {\n",
       "        text-align: right;\n",
       "    }\n",
       "</style>\n",
       "<table border=\"1\" class=\"dataframe\">\n",
       "  <thead>\n",
       "    <tr style=\"text-align: right;\">\n",
       "      <th></th>\n",
       "      <th>holiday</th>\n",
       "      <th>temp</th>\n",
       "      <th>rain_1h</th>\n",
       "      <th>snow_1h</th>\n",
       "      <th>clouds_all</th>\n",
       "      <th>weather_main</th>\n",
       "      <th>weather_description</th>\n",
       "      <th>date_time</th>\n",
       "      <th>traffic_volume</th>\n",
       "    </tr>\n",
       "  </thead>\n",
       "  <tbody>\n",
       "    <tr>\n",
       "      <th>0</th>\n",
       "      <td>None</td>\n",
       "      <td>288.28</td>\n",
       "      <td>0.0</td>\n",
       "      <td>0.0</td>\n",
       "      <td>40</td>\n",
       "      <td>Clouds</td>\n",
       "      <td>scattered clouds</td>\n",
       "      <td>2012-10-02 09:00:00</td>\n",
       "      <td>5545</td>\n",
       "    </tr>\n",
       "    <tr>\n",
       "      <th>1</th>\n",
       "      <td>None</td>\n",
       "      <td>289.36</td>\n",
       "      <td>0.0</td>\n",
       "      <td>0.0</td>\n",
       "      <td>75</td>\n",
       "      <td>Clouds</td>\n",
       "      <td>broken clouds</td>\n",
       "      <td>2012-10-02 10:00:00</td>\n",
       "      <td>4516</td>\n",
       "    </tr>\n",
       "    <tr>\n",
       "      <th>2</th>\n",
       "      <td>None</td>\n",
       "      <td>289.58</td>\n",
       "      <td>0.0</td>\n",
       "      <td>0.0</td>\n",
       "      <td>90</td>\n",
       "      <td>Clouds</td>\n",
       "      <td>overcast clouds</td>\n",
       "      <td>2012-10-02 11:00:00</td>\n",
       "      <td>4767</td>\n",
       "    </tr>\n",
       "    <tr>\n",
       "      <th>3</th>\n",
       "      <td>None</td>\n",
       "      <td>290.13</td>\n",
       "      <td>0.0</td>\n",
       "      <td>0.0</td>\n",
       "      <td>90</td>\n",
       "      <td>Clouds</td>\n",
       "      <td>overcast clouds</td>\n",
       "      <td>2012-10-02 12:00:00</td>\n",
       "      <td>5026</td>\n",
       "    </tr>\n",
       "    <tr>\n",
       "      <th>4</th>\n",
       "      <td>None</td>\n",
       "      <td>291.14</td>\n",
       "      <td>0.0</td>\n",
       "      <td>0.0</td>\n",
       "      <td>75</td>\n",
       "      <td>Clouds</td>\n",
       "      <td>broken clouds</td>\n",
       "      <td>2012-10-02 13:00:00</td>\n",
       "      <td>4918</td>\n",
       "    </tr>\n",
       "  </tbody>\n",
       "</table>\n",
       "</div>"
      ],
      "text/plain": [
       "  holiday    temp  rain_1h  snow_1h  clouds_all weather_main  \\\n",
       "0    None  288.28      0.0      0.0          40       Clouds   \n",
       "1    None  289.36      0.0      0.0          75       Clouds   \n",
       "2    None  289.58      0.0      0.0          90       Clouds   \n",
       "3    None  290.13      0.0      0.0          90       Clouds   \n",
       "4    None  291.14      0.0      0.0          75       Clouds   \n",
       "\n",
       "  weather_description            date_time  traffic_volume  \n",
       "0    scattered clouds  2012-10-02 09:00:00            5545  \n",
       "1       broken clouds  2012-10-02 10:00:00            4516  \n",
       "2     overcast clouds  2012-10-02 11:00:00            4767  \n",
       "3     overcast clouds  2012-10-02 12:00:00            5026  \n",
       "4       broken clouds  2012-10-02 13:00:00            4918  "
      ]
     },
     "execution_count": 1,
     "metadata": {},
     "output_type": "execute_result"
    }
   ],
   "source": [
    "import pandas as pd\n",
    "import matplotlib.pyplot as plt\n",
    "%matplotlib inline\n",
    "\n",
    "i94 = pd.read_csv('Metro_Interstate_Traffic_Volume.csv')\n",
    "\n",
    "i94.head()"
   ]
  },
  {
   "cell_type": "code",
   "execution_count": 2,
   "id": "52397592",
   "metadata": {},
   "outputs": [
    {
     "data": {
      "text/html": [
       "<div>\n",
       "<style scoped>\n",
       "    .dataframe tbody tr th:only-of-type {\n",
       "        vertical-align: middle;\n",
       "    }\n",
       "\n",
       "    .dataframe tbody tr th {\n",
       "        vertical-align: top;\n",
       "    }\n",
       "\n",
       "    .dataframe thead th {\n",
       "        text-align: right;\n",
       "    }\n",
       "</style>\n",
       "<table border=\"1\" class=\"dataframe\">\n",
       "  <thead>\n",
       "    <tr style=\"text-align: right;\">\n",
       "      <th></th>\n",
       "      <th>holiday</th>\n",
       "      <th>temp</th>\n",
       "      <th>rain_1h</th>\n",
       "      <th>snow_1h</th>\n",
       "      <th>clouds_all</th>\n",
       "      <th>weather_main</th>\n",
       "      <th>weather_description</th>\n",
       "      <th>date_time</th>\n",
       "      <th>traffic_volume</th>\n",
       "    </tr>\n",
       "  </thead>\n",
       "  <tbody>\n",
       "    <tr>\n",
       "      <th>48199</th>\n",
       "      <td>None</td>\n",
       "      <td>283.45</td>\n",
       "      <td>0.0</td>\n",
       "      <td>0.0</td>\n",
       "      <td>75</td>\n",
       "      <td>Clouds</td>\n",
       "      <td>broken clouds</td>\n",
       "      <td>2018-09-30 19:00:00</td>\n",
       "      <td>3543</td>\n",
       "    </tr>\n",
       "    <tr>\n",
       "      <th>48200</th>\n",
       "      <td>None</td>\n",
       "      <td>282.76</td>\n",
       "      <td>0.0</td>\n",
       "      <td>0.0</td>\n",
       "      <td>90</td>\n",
       "      <td>Clouds</td>\n",
       "      <td>overcast clouds</td>\n",
       "      <td>2018-09-30 20:00:00</td>\n",
       "      <td>2781</td>\n",
       "    </tr>\n",
       "    <tr>\n",
       "      <th>48201</th>\n",
       "      <td>None</td>\n",
       "      <td>282.73</td>\n",
       "      <td>0.0</td>\n",
       "      <td>0.0</td>\n",
       "      <td>90</td>\n",
       "      <td>Thunderstorm</td>\n",
       "      <td>proximity thunderstorm</td>\n",
       "      <td>2018-09-30 21:00:00</td>\n",
       "      <td>2159</td>\n",
       "    </tr>\n",
       "    <tr>\n",
       "      <th>48202</th>\n",
       "      <td>None</td>\n",
       "      <td>282.09</td>\n",
       "      <td>0.0</td>\n",
       "      <td>0.0</td>\n",
       "      <td>90</td>\n",
       "      <td>Clouds</td>\n",
       "      <td>overcast clouds</td>\n",
       "      <td>2018-09-30 22:00:00</td>\n",
       "      <td>1450</td>\n",
       "    </tr>\n",
       "    <tr>\n",
       "      <th>48203</th>\n",
       "      <td>None</td>\n",
       "      <td>282.12</td>\n",
       "      <td>0.0</td>\n",
       "      <td>0.0</td>\n",
       "      <td>90</td>\n",
       "      <td>Clouds</td>\n",
       "      <td>overcast clouds</td>\n",
       "      <td>2018-09-30 23:00:00</td>\n",
       "      <td>954</td>\n",
       "    </tr>\n",
       "  </tbody>\n",
       "</table>\n",
       "</div>"
      ],
      "text/plain": [
       "      holiday    temp  rain_1h  snow_1h  clouds_all  weather_main  \\\n",
       "48199    None  283.45      0.0      0.0          75        Clouds   \n",
       "48200    None  282.76      0.0      0.0          90        Clouds   \n",
       "48201    None  282.73      0.0      0.0          90  Thunderstorm   \n",
       "48202    None  282.09      0.0      0.0          90        Clouds   \n",
       "48203    None  282.12      0.0      0.0          90        Clouds   \n",
       "\n",
       "          weather_description            date_time  traffic_volume  \n",
       "48199           broken clouds  2018-09-30 19:00:00            3543  \n",
       "48200         overcast clouds  2018-09-30 20:00:00            2781  \n",
       "48201  proximity thunderstorm  2018-09-30 21:00:00            2159  \n",
       "48202         overcast clouds  2018-09-30 22:00:00            1450  \n",
       "48203         overcast clouds  2018-09-30 23:00:00             954  "
      ]
     },
     "execution_count": 2,
     "metadata": {},
     "output_type": "execute_result"
    }
   ],
   "source": [
    "i94.tail()"
   ]
  },
  {
   "cell_type": "code",
   "execution_count": 3,
   "id": "f455f682",
   "metadata": {},
   "outputs": [
    {
     "name": "stdout",
     "output_type": "stream",
     "text": [
      "<class 'pandas.core.frame.DataFrame'>\n",
      "RangeIndex: 48204 entries, 0 to 48203\n",
      "Data columns (total 9 columns):\n",
      " #   Column               Non-Null Count  Dtype  \n",
      "---  ------               --------------  -----  \n",
      " 0   holiday              48204 non-null  object \n",
      " 1   temp                 48204 non-null  float64\n",
      " 2   rain_1h              48204 non-null  float64\n",
      " 3   snow_1h              48204 non-null  float64\n",
      " 4   clouds_all           48204 non-null  int64  \n",
      " 5   weather_main         48204 non-null  object \n",
      " 6   weather_description  48204 non-null  object \n",
      " 7   date_time            48204 non-null  object \n",
      " 8   traffic_volume       48204 non-null  int64  \n",
      "dtypes: float64(3), int64(2), object(4)\n",
      "memory usage: 3.3+ MB\n"
     ]
    }
   ],
   "source": [
    "i94.info()"
   ]
  },
  {
   "cell_type": "markdown",
   "id": "9dc191e3",
   "metadata": {},
   "source": [
    "## I-94 Traffic Data Set\n",
    "\n",
    "As we can see above the data set has a total of 48,204 rows and 9 columns. Each row describes traffic and weather data for a specific hour - our data is from 2012-10-02 09:00:00\tto 2018-09-30 23:00:00.\n",
    "\n",
    "We should take note of the fact that the data is recorded by a station located approximately midway between Minneapolis and Saint Paul. The direction for the station of the route is westbound (i.e., cars moving east to west). This means that our analysis will be about westbound traffic in the proximity of the station. Meaning that we should avoid generalizing our results for the entire I-94 highway."
   ]
  },
  {
   "cell_type": "markdown",
   "id": "ba162b69",
   "metadata": {},
   "source": [
    "## Analyzing the Traffic Volume\n",
    "\n",
    "We are going to start by analyzing the distribution of the traffic volume column."
   ]
  },
  {
   "cell_type": "code",
   "execution_count": 4,
   "id": "35a8a5f1",
   "metadata": {},
   "outputs": [
    {
     "data": {
      "image/png": "[encoded data removed]",
      "text/plain": [
       "<Figure size 432x288 with 1 Axes>"
      ]
     },
     "metadata": {
      "needs_background": "light"
     },
     "output_type": "display_data"
    }
   ],
   "source": [
    "i94['traffic_volume'].plot.hist()\n",
    "plt.show()"
   ]
  },
  {
   "cell_type": "code",
   "execution_count": 5,
   "id": "0cac7057",
   "metadata": {},
   "outputs": [
    {
     "data": {
      "text/plain": [
       "count    48204.000000\n",
       "mean      3259.818355\n",
       "std       1986.860670\n",
       "min          0.000000\n",
       "25%       1193.000000\n",
       "50%       3380.000000\n",
       "75%       4933.000000\n",
       "max       7280.000000\n",
       "Name: traffic_volume, dtype: float64"
      ]
     },
     "execution_count": 5,
     "metadata": {},
     "output_type": "execute_result"
    }
   ],
   "source": [
    "i94['traffic_volume'].describe()"
   ]
  },
  {
   "cell_type": "markdown",
   "id": "d932d3b6",
   "metadata": {},
   "source": [
    "We can see above that from 2012-10-02 09:00:00 to 2018-09-30 23:00:00, the hourly traffic volume varied from 0 to 7,280 cars, with an average of 3,260 cars.\n",
    "\n",
    "About 25% of the time, there were only 1,193 cars or fewer passing the station each hour. This probably occurs at night, or when a road is under construction.\n",
    "\n",
    "This observation gives our analysis direction, comparing day time to night time data. "
   ]
  },
  {
   "cell_type": "markdown",
   "id": "3fc51d6b",
   "metadata": {},
   "source": [
    "## Traffic Volume: Day vs Night\n",
    "\n",
    "We should divide the data set into two parts:\n",
    "Daytime date: From 7am to 7pm (12 hours)\n",
    "Nighttime data: From 7pm to 7am (12 hours)\n",
    "\n",
    "This is not perfect criteria for distinguishing between day and night but it is a start."
   ]
  },
  {
   "cell_type": "code",
   "execution_count": 6,
   "id": "35423a2d",
   "metadata": {},
   "outputs": [
    {
     "name": "stdout",
     "output_type": "stream",
     "text": [
      "(23877, 9)\n",
      "(24327, 9)\n"
     ]
    }
   ],
   "source": [
    "i94['date_time'] = pd.to_datetime(i94['date_time'])\n",
    "\n",
    "i94_daytime = i94.copy()[(i94['date_time'].dt.hour >= 7) & (i94['date_time'].dt.hour < 19)]\n",
    "print(i94_daytime.shape)\n",
    "\n",
    "i94_nighttime = i94.copy()[(i94['date_time'].dt.hour >= 19) | (i94['date_time'].dt.hour < 7)]\n",
    "print(i94_nighttime.shape)\n"
   ]
  },
  {
   "cell_type": "markdown",
   "id": "7961c2f8",
   "metadata": {},
   "source": [
    "There is a significant difference in rows between day and night due to a few hours of data missing."
   ]
  },
  {
   "cell_type": "markdown",
   "id": "b4e0cc1b",
   "metadata": {},
   "source": [
    "Now that the data is isolated into day and night, we can look at histograms of traffic volume side by side using a grid chart."
   ]
  },
  {
   "cell_type": "code",
   "execution_count": 7,
   "id": "305e7c91",
   "metadata": {},
   "outputs": [
    {
     "data": {
      "image/png": "[encoded data removed]",
      "text/plain": [
       "<Figure size 864x288 with 2 Axes>"
      ]
     },
     "metadata": {
      "needs_background": "light"
     },
     "output_type": "display_data"
    }
   ],
   "source": [
    "plt.figure(figsize = (12,4))\n",
    "\n",
    "plt.subplot(1,2,1)\n",
    "plt.hist(i94_daytime['traffic_volume'])\n",
    "plt.xlim(-100, 7500)\n",
    "plt.ylim(0, 8000)\n",
    "plt.title('Day Time Traffic Volume')\n",
    "plt.xlabel('Traffic Volume')\n",
    "plt.ylabel('Frequency')\n",
    "\n",
    "plt.subplot(1,2,2)\n",
    "plt.hist(i94_nighttime['traffic_volume'])\n",
    "plt.xlim(-100, 7500)\n",
    "plt.ylim(0, 8000)\n",
    "plt.title('Night Time Traffic Volume')\n",
    "plt.xlabel('Traffic Volume')\n",
    "plt.ylabel('Frequency')\n",
    "\n",
    "plt.show()"
   ]
  },
  {
   "cell_type": "code",
   "execution_count": 8,
   "id": "da991b62",
   "metadata": {},
   "outputs": [
    {
     "data": {
      "text/plain": [
       "count    23877.000000\n",
       "mean      4762.047452\n",
       "std       1174.546482\n",
       "min          0.000000\n",
       "25%       4252.000000\n",
       "50%       4820.000000\n",
       "75%       5559.000000\n",
       "max       7280.000000\n",
       "Name: traffic_volume, dtype: float64"
      ]
     },
     "execution_count": 8,
     "metadata": {},
     "output_type": "execute_result"
    }
   ],
   "source": [
    "i94_daytime['traffic_volume'].describe()"
   ]
  },
  {
   "cell_type": "code",
   "execution_count": 20,
   "id": "1a1f7662",
   "metadata": {},
   "outputs": [
    {
     "data": {
      "text/plain": [
       "count    24327.000000\n",
       "mean      1785.377441\n",
       "std       1441.951197\n",
       "min          0.000000\n",
       "25%        530.000000\n",
       "50%       1287.000000\n",
       "75%       2819.000000\n",
       "max       6386.000000\n",
       "Name: traffic_volume, dtype: float64"
      ]
     },
     "execution_count": 20,
     "metadata": {},
     "output_type": "execute_result"
    }
   ],
   "source": [
    "i94_nighttime['traffic_volume'].describe()"
   ]
  },
  {
   "cell_type": "markdown",
   "id": "ba68d64e",
   "metadata": {},
   "source": [
    "We can see that the day time traffic histogram is left skewed. This means that most of the traffic volume values are high. There are 4,252 or more cars passing the station 75% of the time (since only 25% of the values are less than 4,252)\n",
    "\n",
    "The histogram displaying night time traffic volume is right skewed. Meaning that most of the traffic volume values are low - 75% of the time, the number of cars that passed the station each hour was less than 2,819.\n",
    "\n",
    "Although there are still measurements of over 5,000 cars per hour, traffic at night is generally light. Since our goal is to find indicators of heavy traffic, we will only focus on the day time data moving forward."
   ]
  },
  {
   "cell_type": "markdown",
   "id": "fc751ebb",
   "metadata": {},
   "source": [
    "## Time Indicators (Month)\n",
    "\n",
    "One of the possible indicators of heavy traffic is time. There might be more people of the road in a certain month, on a certain day, or at a certain time of day.\n",
    "\n",
    "We are going to take a look at a few line plots showing how the traffic changes according to:\n",
    "    -Month\n",
    "    -Day of the week\n",
    "    -Time of the day"
   ]
  },
  {
   "cell_type": "code",
   "execution_count": 9,
   "id": "84a04461",
   "metadata": {},
   "outputs": [
    {
     "data": {
      "text/plain": [
       "month\n",
       "1     4495.613727\n",
       "2     4711.198394\n",
       "3     4889.409560\n",
       "4     4906.894305\n",
       "5     4911.121609\n",
       "6     4898.019566\n",
       "7     4595.035744\n",
       "8     4928.302035\n",
       "9     4870.783145\n",
       "10    4921.234922\n",
       "11    4704.094319\n",
       "12    4374.834566\n",
       "Name: traffic_volume, dtype: float64"
      ]
     },
     "execution_count": 9,
     "metadata": {},
     "output_type": "execute_result"
    }
   ],
   "source": [
    "i94_daytime['month'] = i94_daytime['date_time'].dt.month\n",
    "by_month = i94_daytime.groupby('month').mean()\n",
    "by_month['traffic_volume']"
   ]
  },
  {
   "cell_type": "code",
   "execution_count": 25,
   "id": "a73f29f5",
   "metadata": {},
   "outputs": [
    {
     "data": {
      "text/plain": [
       "<AxesSubplot:xlabel='month'>"
      ]
     },
     "execution_count": 25,
     "metadata": {},
     "output_type": "execute_result"
    },
    {
     "data": {
      "image/png": "[encoded data removed]",
      "text/plain": [
       "<Figure size 432x288 with 1 Axes>"
      ]
     },
     "metadata": {
      "needs_background": "light"
     },
     "output_type": "display_data"
    }
   ],
   "source": [
    "by_month['traffic_volume'].plot.line()"
   ]
  },
  {
   "cell_type": "markdown",
   "id": "23e1e674",
   "metadata": {},
   "source": [
    "We can see that traffic looks less heavy in the colder months (November to Febuary) and more intense in warm months (March to October).\n",
    "\n",
    "However we can see a dip in traffic in July. We should investigate this further. We can do this by comparing how traffic volume changed each year in July. "
   ]
  },
  {
   "cell_type": "code",
   "execution_count": 10,
   "id": "be7baa13",
   "metadata": {},
   "outputs": [
    {
     "data": {
      "image/png": "[encoded data removed]",
      "text/plain": [
       "<Figure size 432x288 with 1 Axes>"
      ]
     },
     "metadata": {
      "needs_background": "light"
     },
     "output_type": "display_data"
    }
   ],
   "source": [
    "i94_daytime['year'] = i94_daytime['date_time'].dt.year\n",
    "only_july = i94_daytime[i94_daytime['month'] == 7]\n",
    "only_july.groupby('year').mean()['traffic_volume'].plot.line()\n",
    "plt.show()"
   ]
  },
  {
   "cell_type": "markdown",
   "id": "60b1ef3f",
   "metadata": {},
   "source": [
    "We can see that traffic remains relatively high in July, similar to other warm months. With the only exception being in 2016, which had a high decrease in traffic volume. One possible reason for this can be road construction.\n",
    "\n",
    "As a tenative conclusion here, we can say that warm months generally show heavier traffic compared to cold months. In a warm month you can expenct for each hour of daytime a traffic volume close to 5,000 cars."
   ]
  },
  {
   "cell_type": "markdown",
   "id": "6d34eba2",
   "metadata": {},
   "source": [
    "## Time Indicators (Day)\n",
    "\n",
    "Lets take a deeper look by looking at traffic volume by the day."
   ]
  },
  {
   "cell_type": "code",
   "execution_count": 11,
   "id": "559b7a47",
   "metadata": {},
   "outputs": [
    {
     "data": {
      "text/plain": [
       "dayofweek\n",
       "0    4893.551286\n",
       "1    5189.004782\n",
       "2    5284.454282\n",
       "3    5311.303730\n",
       "4    5291.600829\n",
       "5    3927.249558\n",
       "6    3436.541789\n",
       "Name: traffic_volume, dtype: float64"
      ]
     },
     "execution_count": 11,
     "metadata": {},
     "output_type": "execute_result"
    }
   ],
   "source": [
    "i94_daytime['dayofweek'] = i94_daytime['date_time'].dt.dayofweek\n",
    "by_dayofweek = i94_daytime.groupby('dayofweek').mean()\n",
    "by_dayofweek['traffic_volume']  # 0 is Monday, 6 is Sunday"
   ]
  },
  {
   "cell_type": "code",
   "execution_count": 30,
   "id": "95a71def",
   "metadata": {},
   "outputs": [
    {
     "data": {
      "text/plain": [
       "<AxesSubplot:xlabel='dayofweek'>"
      ]
     },
     "execution_count": 30,
     "metadata": {},
     "output_type": "execute_result"
    },
    {
     "data": {
      "image/png": "[encoded data removed]",
      "text/plain": [
       "<Figure size 432x288 with 1 Axes>"
      ]
     },
     "metadata": {
      "needs_background": "light"
     },
     "output_type": "display_data"
    }
   ],
   "source": [
    "by_dayofweek['traffic_volume'].plot.line()"
   ]
  },
  {
   "cell_type": "markdown",
   "id": "37779c7d",
   "metadata": {},
   "source": [
    "As you can expect we see much heavier traffic on business days from Monday to Friday. Other than Monday, all buisness days have traffic volumes above 5,000. \n",
    "\n",
    "Traffic is lighter on the weekends, with values below 4,000 cars."
   ]
  },
  {
   "cell_type": "markdown",
   "id": "d3af5d73",
   "metadata": {},
   "source": [
    "## Time Indicators (Time of the day)\n",
    "\n",
    "Lets take a look at the values based on the time of the day. The weekends will drag down our average, so we are going to look at the averages seperately."
   ]
  },
  {
   "cell_type": "code",
   "execution_count": 12,
   "id": "9cc27902",
   "metadata": {},
   "outputs": [
    {
     "name": "stdout",
     "output_type": "stream",
     "text": [
      "hour\n",
      "7     6030.413559\n",
      "8     5503.497970\n",
      "9     4895.269257\n",
      "10    4378.419118\n",
      "11    4633.419470\n",
      "12    4855.382143\n",
      "13    4859.180473\n",
      "14    5152.995778\n",
      "15    5592.897768\n",
      "16    6189.473647\n",
      "17    5784.827133\n",
      "18    4434.209431\n",
      "Name: traffic_volume, dtype: float64\n",
      "hour\n",
      "7     1589.365894\n",
      "8     2338.578073\n",
      "9     3111.623917\n",
      "10    3686.632302\n",
      "11    4044.154955\n",
      "12    4372.482883\n",
      "13    4362.296564\n",
      "14    4358.543796\n",
      "15    4342.456881\n",
      "16    4339.693805\n",
      "17    4151.919929\n",
      "18    3811.792279\n",
      "Name: traffic_volume, dtype: float64\n"
     ]
    }
   ],
   "source": [
    "i94_daytime['hour'] = i94_daytime['date_time'].dt.hour\n",
    "bussiness_days = i94_daytime.copy()[i94_daytime['dayofweek'] <= 4] # 4 == Friday\n",
    "weekend = i94_daytime.copy()[i94_daytime['dayofweek'] >= 5] # 5 == Saturday\n",
    "by_hour_business = bussiness_days.groupby('hour').mean()\n",
    "by_hour_weekend = weekend.groupby('hour').mean()\n",
    "\n",
    "print(by_hour_business['traffic_volume'])\n",
    "print(by_hour_weekend['traffic_volume'])"
   ]
  },
  {
   "cell_type": "code",
   "execution_count": 13,
   "id": "075631ec",
   "metadata": {},
   "outputs": [
    {
     "data": {
      "image/png": "[encoded data removed]",
      "text/plain": [
       "<Figure size 864x288 with 2 Axes>"
      ]
     },
     "metadata": {
      "needs_background": "light"
     },
     "output_type": "display_data"
    }
   ],
   "source": [
    "plt.figure(figsize = (12,4))\n",
    "\n",
    "plt.subplot(1,2,1)\n",
    "by_hour_business['traffic_volume'].plot.line()\n",
    "plt.xlim(6, 20)\n",
    "plt.ylim(1500, 6500)\n",
    "plt.title('Day Time Traffic Volume')\n",
    "plt.xlabel('Traffic Volume')\n",
    "plt.ylabel('Frequency')\n",
    "\n",
    "plt.subplot(1,2,2)\n",
    "by_hour_weekend['traffic_volume'].plot.line()\n",
    "plt.xlim(6, 20)\n",
    "plt.ylim(1500, 6500)\n",
    "plt.title('Night Time Traffic Volume')\n",
    "plt.xlabel('Traffic Volume')\n",
    "plt.ylabel('Frequency')\n",
    "\n",
    "plt.show()"
   ]
  },
  {
   "cell_type": "markdown",
   "id": "75dbea35",
   "metadata": {},
   "source": [
    "As we can expect, traffic volume is higher each hour of the day on buisness days compared to the weekends. The rush hours being at 7 and 16 - when most people are traveling to and from work. We see volumes of over 6000 cars at rush hours.\n",
    "\n",
    "To summarize, we found a few time related indicators of heavy traffic:\n",
    "    - Traffic is usually heavier in warm months (Mar - Oct) compared to cold months (Nov - Feb).\n",
    "    - Traffic is usually heavier on buisness days compared to weekends.\n",
    "    - On buisness days, the rush hours are around 7 and 16."
   ]
  },
  {
   "cell_type": "markdown",
   "id": "6dc365e8",
   "metadata": {},
   "source": [
    "## Weather Indicators\n",
    "\n",
    "Another possible indicator of heavy traffic is weather. The data set provides us with a few useful columns about weather: temp, rain_1h, snow_1h, clouds_all, weather_main, weather_description.\n",
    "\n",
    "A few of these columns are numerical, so we are able to look at the correlation values with traffic_volume."
   ]
  },
  {
   "cell_type": "code",
   "execution_count": 15,
   "id": "7d7069bb",
   "metadata": {},
   "outputs": [
    {
     "data": {
      "text/plain": [
       "temp              0.128317\n",
       "rain_1h           0.003697\n",
       "snow_1h           0.001265\n",
       "clouds_all       -0.032932\n",
       "traffic_volume    1.000000\n",
       "month            -0.022337\n",
       "year             -0.003557\n",
       "dayofweek        -0.416453\n",
       "hour              0.172704\n",
       "Name: traffic_volume, dtype: float64"
      ]
     },
     "execution_count": 15,
     "metadata": {},
     "output_type": "execute_result"
    }
   ],
   "source": [
    "i94_daytime.corr()['traffic_volume']"
   ]
  },
  {
   "cell_type": "markdown",
   "id": "4e1f7477",
   "metadata": {},
   "source": [
    "We can see that temperature shows the strongest correlation with a value of +0.13. The other relevant columns (rain_1h, snow_1h, clouds_all) do not show any strong correlation with traffic volume.\n",
    "\n",
    "We can generate a scatter plot to visualize the correlation between temperature and and traffic_volume."
   ]
  },
  {
   "cell_type": "code",
   "execution_count": 20,
   "id": "0548a987",
   "metadata": {},
   "outputs": [
    {
     "data": {
      "image/png": "[encoded data removed]",
      "text/plain": [
       "<Figure size 432x288 with 1 Axes>"
      ]
     },
     "metadata": {
      "needs_background": "light"
     },
     "output_type": "display_data"
    }
   ],
   "source": [
    "i94_daytime.plot.scatter('traffic_volume', 'temp')\n",
    "plt.ylim(230,320)  # two wrong temperatures mess with the y axsis\n",
    "plt.show()"
   ]
  },
  {
   "cell_type": "markdown",
   "id": "51dc2804",
   "metadata": {},
   "source": [
    "We can conclude that temperature does not look like a solid indicator of heavy traffic.\n",
    "\n",
    "We should now look at the other weather related columns: weather_main and weather_description."
   ]
  },
  {
   "cell_type": "markdown",
   "id": "4b7e61e2",
   "metadata": {},
   "source": [
    "## Weather Types\n",
    "\n",
    "To start we will focus on weather_main and look at the traffic_volume averages."
   ]
  },
  {
   "cell_type": "code",
   "execution_count": 24,
   "id": "983c6bf0",
   "metadata": {},
   "outputs": [
    {
     "data": {
      "image/png": "[encoded data removed]",
      "text/plain": [
       "<Figure size 432x288 with 1 Axes>"
      ]
     },
     "metadata": {
      "needs_background": "light"
     },
     "output_type": "display_data"
    }
   ],
   "source": [
    "by_weather_main = i94_daytime.groupby('weather_main').mean()\n",
    "by_weather_main['traffic_volume'].plot.barh()\n",
    "plt.show()"
   ]
  },
  {
   "cell_type": "markdown",
   "id": "238820d4",
   "metadata": {},
   "source": [
    "It seems that there is no weather type that makes traffic exceed 5,000 cars. This makes finding a heavy traffic indicator more difficult. \n",
    "\n",
    "Let's try grouping by weather_description, which has a more granular weather classification."
   ]
  },
  {
   "cell_type": "code",
   "execution_count": 30,
   "id": "237bcff6",
   "metadata": {},
   "outputs": [
    {
     "data": {
      "image/png": "[encoded data removed]",
      "text/plain": [
       "<Figure size 576x864 with 1 Axes>"
      ]
     },
     "metadata": {
      "needs_background": "light"
     },
     "output_type": "display_data"
    }
   ],
   "source": [
    "by_weather_decription = i94_daytime.groupby('weather_description').mean()\n",
    "by_weather_decription['traffic_volume'].plot.barh(figsize = (8,12))\n",
    "plt.show()"
   ]
  },
  {
   "cell_type": "markdown",
   "id": "06ebed58",
   "metadata": {},
   "source": [
    "It seems that there a three weather types where traffic volume exceeds  5,000 cars:\n",
    "    - Shower snow\n",
    "    - Light rain and snow\n",
    "    - Proximity thunderstrom with drizzle\n",
    "    \n",
    "It is not clear why these weather types have the highest average traffic values - This is bad weather, but it not that bad. Perhaps more people take their cars out of the garage when the weather is bad rather than waling or riding a bike to work. "
   ]
  },
  {
   "cell_type": "markdown",
   "id": "8cc7706d",
   "metadata": {},
   "source": [
    "## Conclusion\n",
    "\n",
    "In this project we tried to find a few indicators of heavy traffic on I-94 Interstate highway. We managed to find two types of indicators:\n",
    "\n",
    "    - Time Indicators\n",
    "        - Traffic is usually heavier in warm months (Mar - Oct) compared to cold months (Nov - Feb).\n",
    "        - Traffic is usually heavier on buisness days compared to weekends.\n",
    "        - On buisness days, the rush hours are around 7 and 16.\n",
    "    - Weather Indicators\n",
    "        - Shower snow\n",
    "        - Light rain and snow\n",
    "        - Proximity thunderstrom with drizzle"
   ]
  }
 ],
 "metadata": {
  "kernelspec": {
   "display_name": "Python 3 (ipykernel)",
   "language": "python",
   "name": "python3"
  },
  "language_info": {
   "codemirror_mode": {
    "name": "ipython",
    "version": 3
   },
   "file_extension": ".py",
   "mimetype": "text/x-python",
   "name": "python",
   "nbconvert_exporter": "python",
   "pygments_lexer": "ipython3",
   "version": "3.9.12"
  }
 },
 "nbformat": 4,
 "nbformat_minor": 5
}
